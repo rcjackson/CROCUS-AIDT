{
 "cells": [
  {
   "cell_type": "code",
   "execution_count": 10,
   "id": "1c2f9df0",
   "metadata": {},
   "outputs": [],
   "source": [
    "from metpy.interpolate import interpolate_to_grid\n",
    "import numpy as np\n",
    "import matplotlib.pyplot as plt\n",
    "import xarray as xr\n",
    "import glob \n",
    "from pyproj import Proj"
   ]
  },
  {
   "cell_type": "code",
   "execution_count": 7,
   "id": "478de4bb",
   "metadata": {},
   "outputs": [],
   "source": [
    "sites = [\"atmos\", \"big\", \"csu\", \"down\", \"hum\", \"neiu_ccics\", \"neiu\", \"nu\", \"shedd\", \"uic\", \"vlpk\"]\n",
    "date = \"20250324\"\n",
    "wxt_ds = {}\n",
    "for s in sites:\n",
    "    try:\n",
    "        list = glob.glob(f\"{s}-wxt-a1/*{date}*.nc\")[0]\n",
    "        wxt_ds[s] = xr.open_dataset(list)\n",
    "    except IndexError:\n",
    "        continue"
   ]
  },
  {
   "cell_type": "code",
   "execution_count": 19,
   "id": "93e59594",
   "metadata": {},
   "outputs": [],
   "source": [
    "time_to_interpolate = \"2025-03-24T12:00:00\"\n",
    "# Define your projection (example: Lambert Conformal Conic)\n",
    "proj = Proj(proj='lcc', lat_1=41.9742, lat_2=45, lat_0=41.9742, lon_0=41.9742)\n",
    "\n",
    "# Example x, y coordinates (in meters)\n",
    "x_range = np.arange(-50000., 50000., 500.)\n",
    "y_range = np.arange(-50000., 50000., 500.)\n",
    "x, y = np.meshgrid(x_range, y_range)\n",
    "\n",
    "# Convert to lon, lat\n",
    "lon, lat = proj(x, y, inverse=True)\n",
    "u = {}\n",
    "v = {}\n",
    "for s in sites:\n",
    "    if s not in wxt_ds.keys():\n",
    "        continue\n",
    "    u_wind = wxt_ds[s][\"wind_mean_10s\"] * -np.cos(np.deg2rad(wxt_ds[s].wind_dir_10s))\n",
    "    v_wind = wxt_ds[s][\"wind_mean_10s\"] * -np.sin(np.deg2rad(wxt_ds[s].wind_dir_10s))\n",
    "    u[s] = u_wind.sel(time=time_to_interpolate, method='nearest').values\n",
    "    v[s] = v_wind.sel(time=time_to_interpolate, method='nearest').values"
   ]
  },
  {
   "cell_type": "code",
   "execution_count": null,
   "id": "1109862f",
   "metadata": {},
   "outputs": [],
   "source": []
  },
  {
   "cell_type": "code",
   "execution_count": null,
   "id": "296fce46",
   "metadata": {},
   "outputs": [],
   "source": [
    "lat = 41.9742\n",
    "lon = -87.9073\n",
    "print(f\"Latitude: {lat}, Longitude: {lon}\")\n"
   ]
  }
 ],
 "metadata": {
  "kernelspec": {
   "display_name": "my_env",
   "language": "python",
   "name": "python3"
  },
  "language_info": {
   "codemirror_mode": {
    "name": "ipython",
    "version": 3
   },
   "file_extension": ".py",
   "mimetype": "text/x-python",
   "name": "python",
   "nbconvert_exporter": "python",
   "pygments_lexer": "ipython3",
   "version": "3.12.11"
  }
 },
 "nbformat": 4,
 "nbformat_minor": 5
}
